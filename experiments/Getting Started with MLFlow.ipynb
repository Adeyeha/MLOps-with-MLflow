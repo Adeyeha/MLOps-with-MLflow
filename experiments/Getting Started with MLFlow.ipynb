{
 "cells": [
  {
   "cell_type": "markdown",
   "id": "97b442d8",
   "metadata": {},
   "source": [
    "# Getting Started with MLFlow: an end-to-end example\n",
    "\n",
    "This tutorial covers the following steps:\n",
    "- Mlflow Installation\n",
    "- MlFlow Tracking\n",
    "    - Auto Tracking with Sklearn\n",
    "    - Auto Tracking with Sklearn (Hyper-parameter Tuning Usecase)\n",
    "    - Manual Tracking\n",
    "- MlFlow Model \n",
    "    - Model Logging\n",
    "    - Model Validation\n",
    "- MlFlow Model Registry\n",
    "    - Model Registration and versioning\n",
    "    - Model Serving\n",
    "    - Model Serving Validation\n",
    "\n",
    "In this example, you will build a RandomForest Regressor to predict the disease progression of diabetes in patients based on the patient's biological markers using data from sklearn.datasets\n",
    "\n",
    "## Requirements\n",
    "This notebook requires these libraries:\n",
    "- sklearn \n",
    "- pandas\n",
    "\n",
    "To install, run `pip install sklearn,pandas` command in CMD or Anaconda Prompt. "
   ]
  },
  {
   "cell_type": "markdown",
   "id": "27275ecb",
   "metadata": {},
   "source": [
    "## MLFlow Installation\n",
    "\n",
    "There are three main methods of installation namely:\n",
    "- **Local Installation**: MLflow can be installed locally via pip or conda the package manager for Python. To install MLflow using pip, you can run the following command in your terminal: `pip install mlflow` Or, if you are using conda, run the following command in your terminal: `conda install -c conda-forge mlflow` \n",
    "- **Docker Installation**: MLflow can also be installed via Docker, a popular platform for building and running containers. To install MLflow using Docker, you can pull the MLflow image from the Docker Hub and run it in a container.\n",
    "- **Local or Remote Server Installation**: MLflow can also be installed on a local or remote server, allowing you to run experiments and log information on a shared environment. To install MLflow on a server, you can follow the same steps as the Pip Installation but on a remote server. This is typically used in an enterprise environment where you have different people working on the same project.\n",
    "\n",
    "For this tutorial, we would be installing locally with the following steps:\n",
    "- Open Anaconda prompt or CMD\n",
    "- Run the below command on your terminal\n",
    "    - Linux/ Mac Users\n",
    "        - `pip install mlflow` if using pip or `conda install -c conda-forge mlflow` if using conda on your terminal\n",
    "    - Windows Users\n",
    "        - `pip uninstall waitress,Flask,mlflow`\n",
    "        - `pip install waitress,Flask,mlflow[extra]`\n",
    "        \n",
    "## MLFlow UI\n",
    "\n",
    "By default, wherever you run your program, the tracking API writes data into files into a local ./mlruns directory. You can then run MLflow’s Tracking UI in anacaonda prompt or CMD terminal: `mlflow ui` and view it at http://localhost:5000. \n"
   ]
  },
  {
   "cell_type": "markdown",
   "id": "5298806f",
   "metadata": {},
   "source": [
    "## MLFlow Tracking\n",
    "You can track an experiment using the MLFlow API.\n",
    "\n",
    "#### Import the required libraries"
   ]
  },
  {
   "cell_type": "code",
   "execution_count": 42,
   "id": "7d962c91",
   "metadata": {},
   "outputs": [],
   "source": [
    "import mlflow\n",
    "import mlflow.sklearn\n",
    "from mlflow.models.signature import infer_signature\n",
    "import pandas as pd\n",
    "import matplotlib.pyplot as plt\n",
    "import os\n",
    " \n",
    "from numpy import savetxt\n",
    " \n",
    "from sklearn.model_selection import train_test_split\n",
    "from sklearn.datasets import load_diabetes\n",
    " \n",
    "from sklearn.ensemble import RandomForestRegressor\n",
    "from sklearn.metrics import mean_squared_error\n",
    "\n",
    "import logging\n",
    "\n",
    "logging.getLogger(\"mlflow\").setLevel(logging.ERROR)\n",
    "\n",
    "# mlflow.set_tracking_uri(\"http://localhost:5000\")"
   ]
  },
  {
   "cell_type": "markdown",
   "id": "591f7fb2",
   "metadata": {},
   "source": [
    "#### Import Data"
   ]
  },
  {
   "cell_type": "code",
   "execution_count": 37,
   "id": "df193b54",
   "metadata": {},
   "outputs": [],
   "source": [
    "db = load_diabetes()\n",
    "X = db.data\n",
    "y = db.target\n",
    "X_train, X_test, y_train, y_test = train_test_split(X, y)"
   ]
  },
  {
   "cell_type": "markdown",
   "id": "c7f0bec6",
   "metadata": {},
   "source": [
    "### Auto Tracking with Sklearn\n",
    "\n",
    "The code snippet below invokes the autolog() from sklearn and sets and experiment name (This can be changed) and a run name. By default, a different run id is automatically generated for each run. A RandomForestRegressor is trained and the autolog method tracks all relevant parameters,metrics,artifacts and model into MLflow. Once executed, go to MLFlow UI and view the new experiment and run. "
   ]
  },
  {
   "cell_type": "code",
   "execution_count": 39,
   "id": "8962518f",
   "metadata": {},
   "outputs": [],
   "source": [
    "# Enable autolog()\n",
    "mlflow.sklearn.autolog()\n",
    " \n",
    "# With autolog() enabled, all model parameters, a model score, and the fitted model are automatically logged.  \n",
    "mlflow.set_experiment('Diabetes Prediction') \n",
    "with mlflow.start_run(run_name = 'Baseline Model'):\n",
    "\n",
    "    # Set the model parameters. \n",
    "    n_estimators = 100\n",
    "    max_depth = 6\n",
    "    max_features = 3\n",
    "\n",
    "    for x in range(1,5):\n",
    "    # Create and train model.\n",
    "        rf = RandomForestRegressor(n_estimators = n_estimators, max_depth = max_depth, max_features = max_features)\n",
    "        rf.fit(X_train, y_train)\n",
    "\n",
    "        # Use the model to make predictions on the test dataset.\n",
    "        predictions = rf.predict(X_test)"
   ]
  },
  {
   "cell_type": "markdown",
   "id": "0b8d35a5",
   "metadata": {},
   "source": [
    "### Auto Tracking with Sklearn (Hyperparameter Tuning Use Case)\n",
    "\n",
    "MLFlow Tracking can be used to track and compare the results of the different runs in hyperparameter tunning. Execute the code snippet below and view on the MLFlow UI. \n",
    "\n",
    "**NB**: We didn't have to set experiment name because once the parameter is set, it is used throughout the session until it's changed"
   ]
  },
  {
   "cell_type": "code",
   "execution_count": 40,
   "id": "e75dd499",
   "metadata": {},
   "outputs": [],
   "source": [
    "# Enable autolog()\n",
    "mlflow.sklearn.autolog()\n",
    "\n",
    "# mlflow.set_experiment('Solar Flare Prediction')\n",
    " \n",
    "# Set the model parameters. \n",
    "n_estimators = [10,20,30,40,50,100]\n",
    "max_depth = [3,4,5,6,7,10]\n",
    "max_features = [3,4,5,6,7,10]\n",
    "\n",
    "for x in range(1,5):\n",
    "    \n",
    "    with mlflow.start_run(run_name = f'Hyperparameter Tuning - {x}'):\n",
    "        \n",
    "        # Create and train model.\n",
    "        rf = RandomForestRegressor(n_estimators = n_estimators[x], max_depth = max_depth[x], max_features = max_features[x])\n",
    "        rf.fit(X_train, y_train)\n",
    "\n",
    "        # Use the model to make predictions on the test dataset.\n",
    "        predictions = rf.predict(X_test)"
   ]
  },
  {
   "cell_type": "markdown",
   "id": "8cc33f85",
   "metadata": {},
   "source": [
    "### Manual Logging\n",
    "\n",
    "In scenarios where you dont want to track all the metrics or want to track custom metrics,parameters or artifacts, you can manually track the specifics parameters."
   ]
  },
  {
   "cell_type": "code",
   "execution_count": 56,
   "id": "7538bc5e",
   "metadata": {},
   "outputs": [
    {
     "name": "stdout",
     "output_type": "stream",
     "text": [
      "Run ID: 0bdefc54dccb4cbc9e3874ddb1374226\n",
      "<RunInfo: artifact_uri='file:///C:/Users/mraji855/Documents/Mlflow/Experiments/mlruns/654934164191656106/0bdefc54dccb4cbc9e3874ddb1374226/artifacts', end_time=None, experiment_id='654934164191656106', lifecycle_stage='active', run_id='0bdefc54dccb4cbc9e3874ddb1374226', run_name='Baseline', run_uuid='0bdefc54dccb4cbc9e3874ddb1374226', start_time=1675214841193, status='RUNNING', user_id='mraji855'>\n"
     ]
    },
    {
     "data": {
      "image/png": "[encoded data removed]",
      "text/plain": [
       "<Figure size 640x480 with 1 Axes>"
      ]
     },
     "metadata": {},
     "output_type": "display_data"
    }
   ],
   "source": [
    "mlflow.set_experiment('Coronal Mass Ejections')\n",
    "with mlflow.start_run(run_name = 'Baseline'):\n",
    "  \n",
    "    # Set the model parameters. \n",
    "    n_estimators = 100\n",
    "    max_depth = 6\n",
    "    max_features = 3\n",
    "\n",
    "    # Create and train model.\n",
    "    rf = RandomForestRegressor(n_estimators = n_estimators, max_depth = max_depth, max_features = max_features)\n",
    "    rf.fit(X_train, y_train)\n",
    "\n",
    "    # Use the model to make predictions on the test dataset.\n",
    "    predictions = rf.predict(X_test)\n",
    "\n",
    "    # Log the model parameters used for this run.\n",
    "    mlflow.log_param(\"num_trees\", n_estimators)\n",
    "    mlflow.log_param(\"maxdepth\", max_depth)\n",
    "    mlflow.log_param(\"max_feat\", max_features)\n",
    "\n",
    "    # Define a metric to use to evaluate the model.\n",
    "    mse = mean_squared_error(y_test, predictions)\n",
    "\n",
    "    # Log the value of the metric from this run.\n",
    "    mlflow.log_metric(\"mse\", mse)\n",
    "\n",
    "    # Include Model Signature\n",
    "    signature = infer_signature(X_train,rf.predict(X_test))\n",
    "\n",
    "    # Log the model created by this run.\n",
    "    mlflow.sklearn.log_model(rf, \"random-forest-model\",signature=signature) \n",
    "\n",
    "    # Save the table of predicted values\n",
    "    savetxt('predictions.csv', predictions, delimiter=',')\n",
    "\n",
    "    # Log the saved table as an artifact\n",
    "    mlflow.log_artifact(\"predictions.csv\")\n",
    "\n",
    "    # Convert the residuals to a pandas dataframe to take advantage of graphics capabilities\n",
    "    df = pd.DataFrame(data = predictions - y_test)\n",
    "\n",
    "    # Create a plot of residuals\n",
    "    plt.plot(df)\n",
    "    plt.xlabel(\"Observation\")\n",
    "    plt.ylabel(\"Residual\")\n",
    "    plt.title(\"Residuals\")\n",
    "\n",
    "    # Save the plot and log it as an artifact\n",
    "\n",
    "    plt.savefig(\"residuals_plot.png\")\n",
    "    mlflow.log_artifact(\"residuals_plot.png\") \n",
    "    print(f\"Run ID: {mlflow.active_run().info.run_id}\")\n",
    "    # mlflow.log_artifact(os.path.abspath(__file__), 'source code')\n",
    "    # print(f\"artifact_uri={mlflow.get_artifact_uri()}\")"
   ]
  },
  {
   "cell_type": "markdown",
   "id": "b1407169",
   "metadata": {},
   "source": [
    "## MLFlow Model\n",
    "An MLflow Model is a standard format for packaging machine learning models that can be used in a variety of downstream tools—for example, real-time serving through a REST API or batch inference on Apache Spark. The format defines a convention that lets you save a model in different “flavors” that can be understood by different downstream tools.\n",
    "\n",
    "In the last code snippet, we logged the ML model with the command `mlflow.sklearn.log_model(rf, \"random-forest-model\",signature=signature)`. The signature argument allows us to include a schema with the model.\n",
    "\n",
    "### Model Validation"
   ]
  },
  {
   "cell_type": "code",
   "execution_count": 51,
   "id": "7aac2598",
   "metadata": {
    "scrolled": true
   },
   "outputs": [
    {
     "data": {
      "text/plain": [
       "array([232.80267925, 107.16602723, 150.42200503, 166.78505678,\n",
       "       146.35945277, 162.89522993, 189.57968811, 213.40199944,\n",
       "       165.57920397, 152.52366334,  84.5924348 , 233.54295836,\n",
       "        88.07144955, 228.71436782,  86.77882565, 243.14520977,\n",
       "       123.63145984, 145.75338316, 217.55724843, 198.50413266,\n",
       "       213.74841651, 168.86859689, 100.05350664, 213.53473092,\n",
       "       139.04751222, 169.21961303, 176.88059653, 117.88794385,\n",
       "        89.66125726, 234.3578485 , 203.00553247, 121.26228823,\n",
       "       189.20417248, 273.65160034,  92.30992294, 198.7322544 ,\n",
       "       193.8060252 , 142.35480657, 164.45712764, 115.78580534,\n",
       "       213.15151327, 198.72086521, 188.48962457,  90.14169796,\n",
       "       108.48851996,  87.07579023, 103.82376336, 107.71762063,\n",
       "       100.45221122, 203.10703841, 107.24448965,  90.02848228,\n",
       "       117.48509291, 244.87703602, 101.06735272,  90.4635034 ,\n",
       "        85.83701275, 211.48203056, 163.61281956,  84.75620209,\n",
       "       152.61028362, 256.53932077,  84.49770396, 105.24384599,\n",
       "       147.17562967, 174.46396981,  90.40170756,  90.60969329,\n",
       "       170.36844683, 214.22157984, 153.01487138,  92.28926839,\n",
       "       188.93804418, 165.82973326, 100.85241888, 171.65838174,\n",
       "       101.10043367, 244.38488625, 190.83471006, 118.27988064,\n",
       "       142.82501104, 175.50618298, 204.90418995,  94.32222815,\n",
       "       125.70690911, 237.95655945, 109.7274321 , 114.11000265,\n",
       "       152.84837854,  80.6388952 ,  91.25458156,  86.95947415,\n",
       "        96.58924255, 106.03532373, 202.75124181, 156.47519122,\n",
       "       135.71840371, 152.9768612 ,  86.76356355, 133.35947471,\n",
       "       169.7013962 , 187.30940511, 101.25594104,  93.301525  ,\n",
       "       250.5655304 , 101.76491872, 155.61591903, 147.03898375,\n",
       "       242.15352669, 179.623431  , 203.73031839])"
      ]
     },
     "execution_count": 51,
     "metadata": {},
     "output_type": "execute_result"
    }
   ],
   "source": [
    "import mlflow\n",
    "run_id = '<insert Run ID>'\n",
    "logged_model = f'runs:/{run_id}/model'\n",
    "\n",
    "# Load model as a PyFuncModel.\n",
    "loaded_model = mlflow.pyfunc.load_model(logged_model)\n",
    "\n",
    "# Predict on a Pandas DataFrame.\n",
    "import pandas as pd\n",
    "loaded_model.predict(pd.DataFrame(X_test))"
   ]
  },
  {
   "cell_type": "markdown",
   "id": "2a80c9e0",
   "metadata": {},
   "source": [
    "## MLFlow Model Registry\n",
    "\n",
    "The MLflow Model Registry component is a centralized model store, set of APIs, and UI, to collaboratively manage the full lifecycle of an MLflow Model. It provides model lineage (which MLflow experiment and run produced the model), model versioning, stage transitions (for example from staging to production), and annotations.\n",
    "\n",
    "### Registering a Model\n",
    "\n",
    "- From the MLflow Runs detail page, select a logged MLflow Model in the Artifacts section.\n",
    "- Click the Register Model button.\n",
    "- In the Model Name field, if you are adding a new model, specify a unique name to identify the model. If you are registering a new version to an existing model, pick the existing model name from the dropdown.\n",
    "\n",
    "### Using the Model Registry\n",
    "- Navigate to the Registered Models page and view the model properties.\n",
    "- Go to the Artifacts section of the run detail page, click the model, and then click the model version at the top right to view the version you just created.\n",
    "- Each model has an overview page that shows the active versions.\n",
    "- Click a version to navigate to the version detail page.\n",
    "- On the version detail page you can see model version details and the current stage of the model version. Click the Stage drop-down at the top right, to transition the model version to one of the other valid stages.\n",
    "\n",
    "### Testing Registered Model"
   ]
  },
  {
   "cell_type": "code",
   "execution_count": 57,
   "id": "6dd82777",
   "metadata": {},
   "outputs": [
    {
     "data": {
      "text/plain": [
       "array([238.43554476, 113.92752787, 157.44707985, 179.42709975,\n",
       "       146.38113533, 170.61316544, 181.62011138, 257.17760518,\n",
       "       167.11897622, 151.25338164,  86.56506914, 232.32899621,\n",
       "        90.32875817, 207.48067915,  86.6019338 , 238.36816707,\n",
       "       117.0455168 , 142.09226493, 226.92671862, 204.30692627,\n",
       "       189.10613192, 149.03002147,  91.77579897, 234.08741298,\n",
       "       141.6950718 , 212.15239121, 179.19133682, 108.0923268 ,\n",
       "       121.3215012 , 251.65552918, 195.23565509, 117.33712894,\n",
       "       239.67200647, 266.97098871, 112.05072587, 245.97633288,\n",
       "       184.76257195, 177.94963655, 184.0540772 , 136.62639276,\n",
       "       207.60600635, 171.02733799, 169.88582242,  89.55153733,\n",
       "        92.44230303,  83.06308839,  90.32194993, 104.72339534,\n",
       "       100.73146541, 264.04641629, 104.50867514,  98.87550321,\n",
       "       165.48984313, 232.4475873 ,  94.44742302,  89.02746347,\n",
       "       105.5385731 , 266.8222248 , 148.41896014,  92.16078245,\n",
       "       131.35016102, 259.99389128,  81.43150634, 101.73957689,\n",
       "       201.91011341, 159.93694969,  87.44520648,  83.38079601,\n",
       "       180.14920716, 241.22505056, 175.06122861,  92.877843  ,\n",
       "       141.55282119, 150.39327588,  92.48019916, 172.12520728,\n",
       "        87.85660584, 263.83014492, 185.13258368, 107.120455  ,\n",
       "       168.2835834 , 170.99395823, 196.70113357,  84.67072921,\n",
       "       142.0784109 , 254.94552125, 106.0870443 , 102.36008616,\n",
       "       137.99980217,  85.15928474,  91.03702408,  82.81153172,\n",
       "        92.73439998, 114.56799714, 231.41625585, 178.9376753 ,\n",
       "       124.78997635, 142.05103988,  82.55376422, 160.02111419,\n",
       "       143.496017  , 196.69321572, 109.94865769,  90.33583509,\n",
       "       280.13144883, 169.13482962, 164.30565366, 144.20930669,\n",
       "       245.95047545, 133.0298549 , 222.89809566])"
      ]
     },
     "execution_count": 57,
     "metadata": {},
     "output_type": "execute_result"
    }
   ],
   "source": [
    "import mlflow.pyfunc\n",
    "\n",
    "model_name = \"random-forest-model\"\n",
    "model_version = 1\n",
    "\n",
    "model = mlflow.pyfunc.load_model(\n",
    "    model_uri=f\"models:/{model_name}/{model_version}\"\n",
    ")\n",
    "\n",
    "model.predict(X_test)"
   ]
  },
  {
   "cell_type": "markdown",
   "id": "9a0f4f94",
   "metadata": {},
   "source": [
    "### Serving Registered Model\n",
    "\n",
    "- Open Anaconda prompt or CMD\n",
    "- Run the below command on your terminal\n",
    "    - Method 1:\n",
    "        - `mlflow models serve -m runs:/<insert Run ID>/model -p 1234`\n",
    "    - Method 2 (For production workload):\n",
    "        - `set MLFLOW_TRACKING_URI=http://localhost:5000` for **windows users** Or, `export MLFLOW_TRACKING_URI=http://localhost:5000` for **linux users**\n",
    "        - `mlflow models serve -m \"models:/random-forest-model/Production -p 1234`\n",
    "        \n",
    "### Testing the served Model"
   ]
  },
  {
   "cell_type": "code",
   "execution_count": 33,
   "id": "db46138e",
   "metadata": {},
   "outputs": [
    {
     "data": {
      "text/plain": [
       "{'predictions': [214.15387290988383, 100.06028426847224]}"
      ]
     },
     "execution_count": 33,
     "metadata": {},
     "output_type": "execute_result"
    }
   ],
   "source": [
    "import requests\n",
    "\n",
    "inference_request = {\n",
    "    \"dataframe_split\": {\n",
    "        \"data\": [[ 0.03081083,  0.05068012,  0.05954058,  0.0563009 , -0.02220825,\n",
    "        0.00119131, -0.03235593, -0.00259226, -0.02479543, -0.01764613],\n",
    "                 [-0.10359309,  0.05068012, -0.02345095, -0.02288468, -0.08687804,\n",
    "       -0.06770135, -0.01762938, -0.03949338, -0.07813994, -0.07149352]]\n",
    "    }\n",
    "}\n",
    "\n",
    "endpoint = \"http://127.0.0.1:1234/invocations\"\n",
    "response = requests.post(endpoint, json=inference_request)\n",
    "\n",
    "response.json()"
   ]
  },
  {
   "cell_type": "markdown",
   "id": "fe9a20cf",
   "metadata": {},
   "source": [
    "### Others"
   ]
  },
  {
   "cell_type": "code",
   "execution_count": 8,
   "id": "dbfa8ebd",
   "metadata": {},
   "outputs": [],
   "source": [
    "# mlflow.set_experiment('Elastic Wine Project')\n",
    "# !mlflow run sklearn_elasticnet_wine -P alpha=0.5\n",
    "# !mlflow run https://github.com/mlflow/mlflow-example.git -P alpha=5.0"
   ]
  },
  {
   "cell_type": "code",
   "execution_count": 58,
   "id": "36279f83",
   "metadata": {},
   "outputs": [],
   "source": [
    "#https://towardsdatascience.com/deploy-mlflow-with-docker-compose-8059f16b6039\n",
    "#https://towardsdatascience.com/create-reusable-ml-modules-with-mlflow-projects-docker-33cd722c93c4\n",
    "#https://medium.com/noodle-labs-the-future-of-ai/introduction-to-mlflow-for-mlops-part-2-docker-environment-53516ce45266\n",
    "#http://michael-harmon.com/blog/GreenBuildings3.html#GreenBuildings3:-Build-&-Deploy-Models-With-MLflow-&-Docker\n",
    "#https://towardsdatascience.com/experiment-tracking-with-mlflow-in-10-minutes-f7c2128b8f2c\n",
    "#https://docs.databricks.com/mlflow/quick-start-python.html\n",
    "#https://mlflow.org/docs/latest/quickstart.html#quickstart\n",
    "#https://www.youtube.com/watch?v=aWBn3wA3xqA&t=3s\n",
    "#https://www.hostinger.com/tutorials/how-to-install-anaconda-on-ubuntu/\n",
    "#https://github.com/mlflow/mlflow/issues/4175#issuecomment-1145831245\n",
    "#https://bytepawn.com/getting-started-with-mlflow.html\n",
    "\n",
    "#To run projects on windows\n",
    "# https://pyenv-win.github.io/pyenv-win/docs/installation.html#pyenv-win-zip\n",
    "# Modify mlflow/utils/process.py _exec_cmd function to include shell=not _IS_UNIX\n",
    "# pip install virtualenv\n",
    "# Stringifylike this in line 151 command_args += [str(activate_cmd)] on mlflow/projects/backend/local.py"
   ]
  },
  {
   "cell_type": "code",
   "execution_count": null,
   "id": "90ed4a1d",
   "metadata": {},
   "outputs": [],
   "source": []
  }
 ],
 "metadata": {
  "kernelspec": {
   "display_name": "Python 3 (ipykernel)",
   "language": "python",
   "name": "python3"
  },
  "language_info": {
   "codemirror_mode": {
    "name": "ipython",
    "version": 3
   },
   "file_extension": ".py",
   "mimetype": "text/x-python",
   "name": "python",
   "nbconvert_exporter": "python",
   "pygments_lexer": "ipython3",
   "version": "3.9.13"
  }
 },
 "nbformat": 4,
 "nbformat_minor": 5
}
